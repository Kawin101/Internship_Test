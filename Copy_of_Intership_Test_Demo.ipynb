{
  "nbformat": 4,
  "nbformat_minor": 0,
  "metadata": {
    "colab": {
      "provenance": [],
      "gpuType": "T4",
      "mount_file_id": "11UXncyZoedH5NHFoV-jKvOpHSOc58Kbh",
      "authorship_tag": "ABX9TyNQEyOOwlRFvVkWbE9sod01",
      "include_colab_link": true
    },
    "kernelspec": {
      "name": "python3",
      "display_name": "Python 3"
    },
    "language_info": {
      "name": "python"
    },
    "accelerator": "GPU"
  },
  "cells": [
    {
      "cell_type": "markdown",
      "metadata": {
        "id": "view-in-github",
        "colab_type": "text"
      },
      "source": [
        "<a href=\"https://colab.research.google.com/github/Kawin101/Internship_Test/blob/main/Copy_of_Intership_Test_Demo.ipynb\" target=\"_parent\"><img src=\"https://colab.research.google.com/assets/colab-badge.svg\" alt=\"Open In Colab\"/></a>"
      ]
    },
    {
      "cell_type": "code",
      "source": [
        "!pip install pytesseract\n"
      ],
      "metadata": {
        "colab": {
          "base_uri": "https://localhost:8080/"
        },
        "id": "EG7eTUgkyBIS",
        "outputId": "c91d4a38-cbdf-4cf3-aa8d-ee1f39480240"
      },
      "execution_count": 2,
      "outputs": [
        {
          "output_type": "stream",
          "name": "stdout",
          "text": [
            "Looking in indexes: https://pypi.org/simple, https://us-python.pkg.dev/colab-wheels/public/simple/\n",
            "Collecting pytesseract\n",
            "  Downloading pytesseract-0.3.10-py3-none-any.whl (14 kB)\n",
            "Requirement already satisfied: packaging>=21.3 in /usr/local/lib/python3.10/dist-packages (from pytesseract) (23.1)\n",
            "Requirement already satisfied: Pillow>=8.0.0 in /usr/local/lib/python3.10/dist-packages (from pytesseract) (8.4.0)\n",
            "Installing collected packages: pytesseract\n",
            "Successfully installed pytesseract-0.3.10\n"
          ]
        }
      ]
    },
    {
      "cell_type": "code",
      "source": [
        "!apt-get install tesseract-ocr-tha"
      ],
      "metadata": {
        "colab": {
          "base_uri": "https://localhost:8080/"
        },
        "id": "INiPJPcOyFF2",
        "outputId": "597d753a-b174-42d3-97fd-2752be5e9456"
      },
      "execution_count": 3,
      "outputs": [
        {
          "output_type": "stream",
          "name": "stdout",
          "text": [
            "Reading package lists... Done\n",
            "Building dependency tree       \n",
            "Reading state information... Done\n",
            "The following additional packages will be installed:\n",
            "  tesseract-ocr tesseract-ocr-eng tesseract-ocr-osd\n",
            "The following NEW packages will be installed:\n",
            "  tesseract-ocr tesseract-ocr-eng tesseract-ocr-osd tesseract-ocr-tha\n",
            "0 upgraded, 4 newly installed, 0 to remove and 16 not upgraded.\n",
            "Need to get 5,749 kB of archives.\n",
            "After this operation, 17.4 MB of additional disk space will be used.\n",
            "Get:1 http://archive.ubuntu.com/ubuntu focal/universe amd64 tesseract-ocr-eng all 1:4.00~git30-7274cfa-1 [1,598 kB]\n",
            "Get:2 http://archive.ubuntu.com/ubuntu focal/universe amd64 tesseract-ocr-osd all 1:4.00~git30-7274cfa-1 [2,990 kB]\n",
            "Get:3 http://archive.ubuntu.com/ubuntu focal/universe amd64 tesseract-ocr amd64 4.1.1-2build2 [262 kB]\n",
            "Get:4 http://archive.ubuntu.com/ubuntu focal/universe amd64 tesseract-ocr-tha all 1:4.00~git30-7274cfa-1 [899 kB]\n",
            "Fetched 5,749 kB in 1s (5,962 kB/s)\n",
            "Selecting previously unselected package tesseract-ocr-eng.\n",
            "(Reading database ... 123069 files and directories currently installed.)\n",
            "Preparing to unpack .../tesseract-ocr-eng_1%3a4.00~git30-7274cfa-1_all.deb ...\n",
            "Unpacking tesseract-ocr-eng (1:4.00~git30-7274cfa-1) ...\n",
            "Selecting previously unselected package tesseract-ocr-osd.\n",
            "Preparing to unpack .../tesseract-ocr-osd_1%3a4.00~git30-7274cfa-1_all.deb ...\n",
            "Unpacking tesseract-ocr-osd (1:4.00~git30-7274cfa-1) ...\n",
            "Selecting previously unselected package tesseract-ocr.\n",
            "Preparing to unpack .../tesseract-ocr_4.1.1-2build2_amd64.deb ...\n",
            "Unpacking tesseract-ocr (4.1.1-2build2) ...\n",
            "Selecting previously unselected package tesseract-ocr-tha.\n",
            "Preparing to unpack .../tesseract-ocr-tha_1%3a4.00~git30-7274cfa-1_all.deb ...\n",
            "Unpacking tesseract-ocr-tha (1:4.00~git30-7274cfa-1) ...\n",
            "Setting up tesseract-ocr-eng (1:4.00~git30-7274cfa-1) ...\n",
            "Setting up tesseract-ocr-tha (1:4.00~git30-7274cfa-1) ...\n",
            "Setting up tesseract-ocr-osd (1:4.00~git30-7274cfa-1) ...\n",
            "Setting up tesseract-ocr (4.1.1-2build2) ...\n",
            "Processing triggers for man-db (2.9.1-1) ...\n"
          ]
        }
      ]
    },
    {
      "cell_type": "code",
      "source": [
        "import cv2\n",
        "import pytesseract\n",
        "from PIL import Image\n",
        "import numpy as np\n",
        "\n",
        "def preprocess_image(image_path):\n",
        "    # Open the image file using PIL\n",
        "    image = Image.open(image_path)\n",
        "\n",
        "    # Convert the image to grayscale\n",
        "    gray_image = image.convert('L')\n",
        "\n",
        "    # Apply image enhancements using OpenCV\n",
        "    img = cv2.cvtColor(np.array(gray_image), cv2.COLOR_RGB2BGR)\n",
        "    img = cv2.resize(img, None, fx=2, fy=2, interpolation=cv2.INTER_CUBIC)\n",
        "    img = cv2.medianBlur(img, 3)\n",
        "\n",
        "    # Save the preprocessed image\n",
        "    preprocessed_image_path = '/content/preprocessed_image.png'\n",
        "    cv2.imwrite(preprocessed_image_path, img)\n",
        "\n",
        "    return preprocessed_image_path\n",
        "\n",
        "def image_to_text(image_path):\n",
        "    # Preprocess the image\n",
        "    preprocessed_image_path = preprocess_image(image_path)\n",
        "\n",
        "    # Open the preprocessed image using PIL\n",
        "    preprocessed_image = Image.open(preprocessed_image_path)\n",
        "\n",
        "    # Set the language to Thai\n",
        "    config = '--psm 6 --oem 3 -l tha'\n",
        "\n",
        "    # Use Tesseract to extract text from the preprocessed image\n",
        "    text = pytesseract.image_to_string(preprocessed_image, config=config)\n",
        "\n",
        "    return text\n",
        "\n",
        "# Provide the path to your image file\n",
        "image_path = '/content/drive/MyDrive/4-1Y2023_First/TextFormImage/TextFormImage02.png'\n",
        "text = image_to_text(image_path)\n",
        "print(text)\n"
      ],
      "metadata": {
        "colab": {
          "base_uri": "https://localhost:8080/"
        },
        "id": "7GOKM9KAUKR_",
        "outputId": "9af0448f-7a25-4abb-9029-73d7d0dcd687"
      },
      "execution_count": 4,
      "outputs": [
        {
          "output_type": "stream",
          "name": "stdout",
          "text": [
            "ชีอ กวินภพ ชมนิกร\n",
            "ทีอยู่ หนองคาย\n",
            "โทรศัพท์ 099456789\n",
            "\f\n"
          ]
        }
      ]
    },
    {
      "cell_type": "code",
      "source": [
        "import pytesseract\n",
        "from PIL import Image\n",
        "import pandas as pd\n",
        "\n",
        "def create_table_from_data(name, address, phone):\n",
        "    # Create a dictionary with the data\n",
        "    data = {'Auto': [1], 'ชื่อ': [name], 'ที่อยู่': [address], 'โทรศัพท์': [phone]}\n",
        "\n",
        "    # Create a pandas DataFrame from the data dictionary\n",
        "    table = pd.DataFrame(data)\n",
        "\n",
        "    return table\n",
        "\n",
        "# Example usage\n",
        "name = 'กวินภพ ชมนิกร'\n",
        "address = 'หนองคาย'\n",
        "phone = '099456789'\n",
        "table = create_table_from_data(name, address, phone)\n",
        "print(table)\n"
      ],
      "metadata": {
        "colab": {
          "base_uri": "https://localhost:8080/"
        },
        "id": "_rr63lCMUgkQ",
        "outputId": "2572b2f9-0a42-4636-dccd-b3e8da5252da"
      },
      "execution_count": null,
      "outputs": [
        {
          "output_type": "stream",
          "name": "stdout",
          "text": [
            "   Auto           ชื่อ  ที่อยู่   โทรศัพท์\n",
            "0     1  กวินภพ ชมนิกร  หนองคาย  099456789\n"
          ]
        }
      ]
    },
    {
      "cell_type": "code",
      "source": [
        "import cv2\n",
        "import pytesseract\n",
        "from PIL import Image\n",
        "import numpy as np\n",
        "import pandas as pd\n",
        "\n",
        "def preprocess_image(image_path):\n",
        "    # Open the image file using PIL\n",
        "    image = Image.open(image_path)\n",
        "\n",
        "    # Convert the image to grayscale\n",
        "    gray_image = image.convert('L')\n",
        "\n",
        "    # Apply image enhancements using OpenCV\n",
        "    img = cv2.cvtColor(np.array(gray_image), cv2.COLOR_RGB2BGR)\n",
        "    img = cv2.resize(img, None, fx=2, fy=2, interpolation=cv2.INTER_CUBIC)\n",
        "    img = cv2.medianBlur(img, 3)\n",
        "\n",
        "    # Save the preprocessed image\n",
        "    preprocessed_image_path = '/content/preprocessed_image.png'\n",
        "    cv2.imwrite(preprocessed_image_path, img)\n",
        "\n",
        "    return preprocessed_image_path\n",
        "\n",
        "def image_to_text(image_path):\n",
        "    # Preprocess the image\n",
        "    preprocessed_image_path = preprocess_image(image_path)\n",
        "\n",
        "    # Open the preprocessed image using PIL\n",
        "    preprocessed_image = Image.open(preprocessed_image_path)\n",
        "\n",
        "    # Set the language to Thai\n",
        "    config = '--psm 6 --oem 3 -l tha'\n",
        "\n",
        "    # Use Tesseract to extract text from the preprocessed image\n",
        "    text = pytesseract.image_to_string(preprocessed_image, config=config)\n",
        "\n",
        "    return text\n",
        "\n",
        "def create_dataframe_from_text(text):\n",
        "    # Split the text into lines\n",
        "    lines = text.split('\\n')\n",
        "\n",
        "    # Initialize an empty dictionary for storing the data\n",
        "    data = {'ชีอ': [], 'ทีอยู่': [], 'โทรศัพท์': []}\n",
        "\n",
        "    # Process each line to extract the values\n",
        "    for line in lines:\n",
        "        parts = line.split(' ')\n",
        "        if len(parts) == 2:\n",
        "            field = parts[0].strip()\n",
        "            value = parts[1].strip()\n",
        "\n",
        "            # Check if the field is 'ชีอ', 'ทีอยู่', or 'โทรศัพท์'\n",
        "            if field == 'ชีอ':\n",
        "                data['ชีอ'].append(value)\n",
        "            elif field == 'ทีอยู่':\n",
        "                data['ทีอยู่'].append(value)\n",
        "            elif field == 'โทรศัพท์':\n",
        "                data['โทรศัพท์'].append(value)\n",
        "\n",
        "    # Find the maximum length among the fields\n",
        "    max_length = max(len(data['ชีอ']), len(data['ทีอยู่']), len(data['โทรศัพท์']))\n",
        "\n",
        "    # Fill in missing values with empty strings\n",
        "    data = {key: values + [''] * (max_length - len(values)) for key, values in data.items()}\n",
        "\n",
        "    # Create a pandas DataFrame from the data dictionary\n",
        "    df = pd.DataFrame(data)\n",
        "\n",
        "    return df\n",
        "\n",
        "# Provide the path to your image file\n",
        "image_path = '/content/drive/MyDrive/4-1Y2023_First/TextFormImage/TextFormImage04.png'\n",
        "text = image_to_text(image_path)\n",
        "print(text)\n",
        "df = create_dataframe_from_text(text)\n",
        "print(df)\n"
      ],
      "metadata": {
        "colab": {
          "base_uri": "https://localhost:8080/"
        },
        "id": "3cqym3wTVTQ4",
        "outputId": "824e30d8-4a3b-45c1-cc89-22c078183773"
      },
      "execution_count": 8,
      "outputs": [
        {
          "output_type": "stream",
          "name": "stdout",
          "text": [
            "ซีอ กวินภพชมนิกร\n",
            "ทีอยู่ หนองคาย\n",
            "โทรศัพท์ 099456789\n",
            "\f\n",
            "  ชีอ   ทีอยู่   โทรศัพท์\n",
            "0      หนองคาย  099456789\n"
          ]
        }
      ]
    },
    {
      "cell_type": "code",
      "source": [
        "import cv2\n",
        "import pytesseract\n",
        "import pandas as pd\n",
        "\n",
        "image_path = '/content/drive/MyDrive/4-1Y2023_First/TextFormImage/TextFormImage06.png'  # Replace with the actual path\n",
        "image = cv2.imread(image_path)\n",
        "\n",
        "# Convert the image to grayscale\n",
        "gray_image = cv2.cvtColor(image, cv2.COLOR_BGR2GRAY)\n",
        "\n",
        "# Apply OCR using Pytesseract\n",
        "text = pytesseract.image_to_string(gray_image)\n",
        "\n",
        "# Split the extracted text into rows using newline character\n",
        "rows = text.strip().split('\\n')\n",
        "\n",
        "# Split each row into columns using a delimiter (e.g., comma or tab)\n",
        "delimiter = ','  # Replace with the appropriate delimiter\n",
        "data = [row.split(delimiter) if len(row.split(delimiter)) >= 1 else row for row in rows]\n",
        "\n",
        "# Create a Pandas DataFrame from the data\n",
        "df = pd.DataFrame(data)\n",
        "\n",
        "# Extract column names\n",
        "column_names = [item[0].split(' ')[0] if isinstance(item, list) else item for item in data]\n",
        "\n",
        "# Extract values\n",
        "values = [item[0].split(' ')[1] if isinstance(item, list) and len(item[0].split(' ')) > 1 else '' for item in data]\n",
        "\n",
        "# Create a dictionary\n",
        "data_dict = {column_names[i]: [values[i]] for i in range(len(column_names))}\n",
        "\n",
        "\n",
        "# Create a Pandas DataFrame\n",
        "df = pd.DataFrame(data_dict)\n",
        "\n",
        "# Display the DataFrame\n",
        "print(df)\n"
      ],
      "metadata": {
        "colab": {
          "base_uri": "https://localhost:8080/"
        },
        "id": "CCuljafAbiiZ",
        "outputId": "46cf9558-b993-4c68-c70f-56b85d76ab41"
      },
      "execution_count": 15,
      "outputs": [
        {
          "output_type": "stream",
          "name": "stdout",
          "text": [
            "             name   address        phone\n",
            "0  kawinphopchomn  thailand    099456789\n"
          ]
        }
      ]
    },
    {
      "cell_type": "code",
      "source": [
        "import cv2\n",
        "import pytesseract\n",
        "import pandas as pd\n",
        "\n",
        "image_path = '/content/drive/MyDrive/4-1Y2023_First/TextFormImage/TextFormImage04.png'  # Replace with the actual path\n",
        "image = cv2.imread(image_path)\n",
        "\n",
        "# Convert the image to grayscale\n",
        "gray_image = cv2.cvtColor(image, cv2.COLOR_BGR2GRAY)\n",
        "\n",
        "# Apply OCR using Pytesseract with Thai language\n",
        "text = pytesseract.image_to_string(gray_image, lang='tha')\n",
        "\n",
        "# Split the extracted text into rows using newline character\n",
        "rows = text.strip().split('\\n')\n",
        "\n",
        "# Split each row into columns using a delimiter (e.g., comma or tab)\n",
        "delimiter = ','  # Replace with the appropriate delimiter\n",
        "data = [row.split(delimiter) for row in rows]\n",
        "\n",
        "# Extract column names\n",
        "column_names = [item.split(' ')[0] for item in data[0]]\n",
        "\n",
        "# Extract values\n",
        "values = [item.split(' ')[1] if len(item.split(' ')) > 1 else '' for row in data for item in row]\n",
        "\n",
        "# Create a dictionary\n",
        "data_dict = {column_names[i]: [values[i]] for i in range(len(column_names))}\n",
        "\n",
        "# Create a Pandas DataFrame\n",
        "df = pd.DataFrame(data_dict)\n",
        "\n",
        "# Display the DataFrame\n",
        "print(df)\n"
      ],
      "metadata": {
        "id": "vqCV4MxTlo85",
        "colab": {
          "base_uri": "https://localhost:8080/"
        },
        "outputId": "a686ec21-076d-4359-db86-403c2c9f4b76"
      },
      "execution_count": 13,
      "outputs": [
        {
          "output_type": "stream",
          "name": "stdout",
          "text": [
            "            ชีอ\n",
            "0  กวินภพชมนิกร\n"
          ]
        }
      ]
    },
    {
      "cell_type": "code",
      "source": [
        "import cv2\n",
        "import pytesseract\n",
        "import pandas as pd\n",
        "\n",
        "# Path to Tesseract executable (update this according to your system)\n",
        "pytesseract.pytesseract.tesseract_cmd = r'/usr/bin/tesseract'\n",
        "\n",
        "# Path to the Thai language data file (update this according to your system)\n",
        "tessdata_dir_config = r'--tessdata-dir \"/usr/share/tesseract-ocr/4.00/tessdata\"'\n",
        "\n",
        "image_path = '/content/drive/MyDrive/4-1Y2023_First/TextFormImage/TextFormImage04.png'  # Replace with the actual path\n",
        "image = cv2.imread(image_path)\n",
        "\n",
        "# Convert the image to grayscale\n",
        "gray_image = cv2.cvtColor(image, cv2.COLOR_BGR2GRAY)\n",
        "\n",
        "# Apply OCR using Pytesseract\n",
        "text = pytesseract.image_to_string(gray_image, lang='tha', config=tessdata_dir_config)\n",
        "\n",
        "# Split the extracted text into rows using newline character\n",
        "rows = text.strip().split('\\n')\n",
        "\n",
        "# Split each row into columns using a delimiter (e.g., comma or tab)\n",
        "delimiter = ','  # Replace with the appropriate delimiter\n",
        "data = [row.split(delimiter) if len(row.split(delimiter)) >= 1 else row for row in rows]\n",
        "\n",
        "# Create a Pandas DataFrame from the data\n",
        "df = pd.DataFrame(data)\n",
        "\n",
        "# Extract column names\n",
        "column_names = [item[0].split(' ')[0] if isinstance(item, list) else item for item in data]\n",
        "\n",
        "# Extract values\n",
        "values = [item[0].split(' ')[1] if isinstance(item, list) and len(item[0].split(' ')) > 1 else '' for item in data]\n",
        "\n",
        "# Create a dictionary\n",
        "data_dict = {column_names[i]: [values[i]] for i in range(len(column_names))}\n",
        "\n",
        "# Create a Pandas DataFrame\n",
        "df = pd.DataFrame(data_dict)\n",
        "\n",
        "# Display the DataFrame\n",
        "print(df)\n"
      ],
      "metadata": {
        "colab": {
          "base_uri": "https://localhost:8080/"
        },
        "id": "t3HQMaiJ1x-s",
        "outputId": "ec04aa4f-654f-41cb-d548-1fe7e4ab32cd"
      },
      "execution_count": 18,
      "outputs": [
        {
          "output_type": "stream",
          "name": "stdout",
          "text": [
            "            ชีอ 4   ทีอยู่     โทรศัพท์\n",
            "0  กวินภพชมนิกร    หนองคาย    099456789\n"
          ]
        }
      ]
    }
  ]
}