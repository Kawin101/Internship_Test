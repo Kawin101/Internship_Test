{
  "nbformat": 4,
  "nbformat_minor": 0,
  "metadata": {
    "colab": {
      "provenance": [],
      "gpuType": "T4",
      "mount_file_id": "11UXncyZoedH5NHFoV-jKvOpHSOc58Kbh",
      "authorship_tag": "ABX9TyP3vwA/d/YW7oNy9ladoKtt",
      "include_colab_link": true
    },
    "kernelspec": {
      "name": "python3",
      "display_name": "Python 3"
    },
    "language_info": {
      "name": "python"
    },
    "accelerator": "GPU"
  },
  "cells": [
    {
      "cell_type": "markdown",
      "metadata": {
        "id": "view-in-github",
        "colab_type": "text"
      },
      "source": [
        "<a href=\"https://colab.research.google.com/github/Kawin101/Internship_Test/blob/main/Intership_Test.ipynb\" target=\"_parent\"><img src=\"https://colab.research.google.com/assets/colab-badge.svg\" alt=\"Open In Colab\"/></a>"
      ]
    },
    {
      "cell_type": "code",
      "source": [
        "import cv2\n",
        "import pytesseract\n",
        "from PIL import Image\n",
        "import numpy as np\n",
        "\n",
        "def preprocess_image(image_path):\n",
        "    # Open the image file using PIL\n",
        "    image = Image.open(image_path)\n",
        "\n",
        "    # Convert the image to grayscale\n",
        "    gray_image = image.convert('L')\n",
        "\n",
        "    # Apply image enhancements using OpenCV\n",
        "    img = cv2.cvtColor(np.array(gray_image), cv2.COLOR_RGB2BGR)\n",
        "    img = cv2.resize(img, None, fx=2, fy=2, interpolation=cv2.INTER_CUBIC)\n",
        "    img = cv2.medianBlur(img, 3)\n",
        "\n",
        "    # Save the preprocessed image\n",
        "    preprocessed_image_path = '/content/preprocessed_image.png'\n",
        "    cv2.imwrite(preprocessed_image_path, img)\n",
        "\n",
        "    return preprocessed_image_path\n",
        "\n",
        "def image_to_text(image_path):\n",
        "    # Preprocess the image\n",
        "    preprocessed_image_path = preprocess_image(image_path)\n",
        "\n",
        "    # Open the preprocessed image using PIL\n",
        "    preprocessed_image = Image.open(preprocessed_image_path)\n",
        "\n",
        "    # Set the language to Thai\n",
        "    config = '--psm 6 --oem 3 -l tha'\n",
        "\n",
        "    # Use Tesseract to extract text from the preprocessed image\n",
        "    text = pytesseract.image_to_string(preprocessed_image, config=config)\n",
        "\n",
        "    return text\n",
        "\n",
        "# Provide the path to your image file\n",
        "image_path = '/content/drive/MyDrive/Image_Video/TextFormImage02.png'\n",
        "text = image_to_text(image_path)\n",
        "print(text)\n"
      ],
      "metadata": {
        "colab": {
          "base_uri": "https://localhost:8080/"
        },
        "id": "7GOKM9KAUKR_",
        "outputId": "893f3fe7-e95f-4dff-9839-2b57b5baf656"
      },
      "execution_count": null,
      "outputs": [
        {
          "output_type": "stream",
          "name": "stdout",
          "text": [
            "ชีอ กวินภพ ชมนิกร\n",
            "ทีอยู่ หนองคาย\n",
            "โทรศัพท์ 099456789\n",
            "\f\n"
          ]
        }
      ]
    },
    {
      "cell_type": "code",
      "source": [
        "import pytesseract\n",
        "from PIL import Image\n",
        "import pandas as pd\n",
        "\n",
        "def create_table_from_data(name, address, phone):\n",
        "    # Create a dictionary with the data\n",
        "    data = {'Auto': [1], 'ชื่อ': [name], 'ที่อยู่': [address], 'โทรศัพท์': [phone]}\n",
        "\n",
        "    # Create a pandas DataFrame from the data dictionary\n",
        "    table = pd.DataFrame(data)\n",
        "\n",
        "    return table\n",
        "\n",
        "# Example usage\n",
        "name = 'กวินภพ ชมนิกร'\n",
        "address = 'หนองคาย'\n",
        "phone = '099456789'\n",
        "table = create_table_from_data(name, address, phone)\n",
        "print(table)\n"
      ],
      "metadata": {
        "colab": {
          "base_uri": "https://localhost:8080/"
        },
        "id": "_rr63lCMUgkQ",
        "outputId": "2572b2f9-0a42-4636-dccd-b3e8da5252da"
      },
      "execution_count": null,
      "outputs": [
        {
          "output_type": "stream",
          "name": "stdout",
          "text": [
            "   Auto           ชื่อ  ที่อยู่   โทรศัพท์\n",
            "0     1  กวินภพ ชมนิกร  หนองคาย  099456789\n"
          ]
        }
      ]
    },
    {
      "cell_type": "code",
      "source": [
        "import cv2\n",
        "import pytesseract\n",
        "from PIL import Image\n",
        "import numpy as np\n",
        "import pandas as pd\n",
        "\n",
        "def preprocess_image(image_path):\n",
        "    # Open the image file using PIL\n",
        "    image = Image.open(image_path)\n",
        "\n",
        "    # Convert the image to grayscale\n",
        "    gray_image = image.convert('L')\n",
        "\n",
        "    # Apply image enhancements using OpenCV\n",
        "    img = cv2.cvtColor(np.array(gray_image), cv2.COLOR_RGB2BGR)\n",
        "    img = cv2.resize(img, None, fx=2, fy=2, interpolation=cv2.INTER_CUBIC)\n",
        "    img = cv2.medianBlur(img, 3)\n",
        "\n",
        "    # Save the preprocessed image\n",
        "    preprocessed_image_path = '/content/preprocessed_image.png'\n",
        "    cv2.imwrite(preprocessed_image_path, img)\n",
        "\n",
        "    return preprocessed_image_path\n",
        "\n",
        "def image_to_text(image_path):\n",
        "    # Preprocess the image\n",
        "    preprocessed_image_path = preprocess_image(image_path)\n",
        "\n",
        "    # Open the preprocessed image using PIL\n",
        "    preprocessed_image = Image.open(preprocessed_image_path)\n",
        "\n",
        "    # Set the language to Thai\n",
        "    config = '--psm 6 --oem 3 -l tha'\n",
        "\n",
        "    # Use Tesseract to extract text from the preprocessed image\n",
        "    text = pytesseract.image_to_string(preprocessed_image, config=config)\n",
        "\n",
        "    return text\n",
        "\n",
        "def create_dataframe_from_text(text):\n",
        "    # Split the text into lines\n",
        "    lines = text.split('\\n')\n",
        "\n",
        "    # Initialize an empty dictionary for storing the data\n",
        "    data = {'ชีอ': [], 'ทีอยู่': [], 'โทรศัพท์': []}\n",
        "\n",
        "    # Process each line to extract the values\n",
        "    for line in lines:\n",
        "        parts = line.split(' ')\n",
        "        if len(parts) == 2:\n",
        "            field = parts[0].strip()\n",
        "            value = parts[1].strip()\n",
        "\n",
        "            # Check if the field is 'ชีอ', 'ทีอยู่', or 'โทรศัพท์'\n",
        "            if field == 'ชีอ':\n",
        "                data['ชีอ'].append(value)\n",
        "            elif field == 'ทีอยู่':\n",
        "                data['ทีอยู่'].append(value)\n",
        "            elif field == 'โทรศัพท์':\n",
        "                data['โทรศัพท์'].append(value)\n",
        "\n",
        "    # Find the maximum length among the fields\n",
        "    max_length = max(len(data['ชีอ']), len(data['ทีอยู่']), len(data['โทรศัพท์']))\n",
        "\n",
        "    # Fill in missing values with empty strings\n",
        "    data = {key: values + [''] * (max_length - len(values)) for key, values in data.items()}\n",
        "\n",
        "    # Create a pandas DataFrame from the data dictionary\n",
        "    df = pd.DataFrame(data)\n",
        "\n",
        "    return df\n",
        "\n",
        "# Provide the path to your image file\n",
        "image_path = '/content/drive/MyDrive/Image_Video/TextFormImage02.png'\n",
        "text = image_to_text(image_path)\n",
        "print(text)\n",
        "df = create_dataframe_from_text(text)\n",
        "print(df)\n"
      ],
      "metadata": {
        "colab": {
          "base_uri": "https://localhost:8080/"
        },
        "id": "3cqym3wTVTQ4",
        "outputId": "3d7f1f76-0fe3-478a-dc03-a8f4f4563d7f"
      },
      "execution_count": null,
      "outputs": [
        {
          "output_type": "stream",
          "name": "stdout",
          "text": [
            "ชีอ กวินภพ ชมนิกร\n",
            "ทีอยู่ หนองคาย\n",
            "โทรศัพท์ 099456789\n",
            "\f\n",
            "  ชีอ   ทีอยู่   โทรศัพท์\n",
            "0      หนองคาย  099456789\n"
          ]
        }
      ]
    },
    {
      "cell_type": "code",
      "source": [
        "import cv2\n",
        "import pytesseract\n",
        "import pandas as pd\n",
        "\n",
        "image_path = '/content/drive/MyDrive/Image_Video/TextFormImage/TextFormImage03.png'  # Replace with the actual path\n",
        "image = cv2.imread(image_path)\n",
        "\n",
        "# Convert the image to grayscale\n",
        "gray_image = cv2.cvtColor(image, cv2.COLOR_BGR2GRAY)\n",
        "\n",
        "# Apply OCR using Pytesseract\n",
        "text = pytesseract.image_to_string(gray_image)\n",
        "\n",
        "# Split the extracted text into rows using newline character\n",
        "rows = text.strip().split('\\n')\n",
        "\n",
        "# Split each row into columns using a delimiter (e.g., comma or tab)\n",
        "delimiter = ','  # Replace with the appropriate delimiter\n",
        "data = [row.split(delimiter) for row in rows]\n",
        "\n",
        "# Create a Pandas DataFrame from the data\n",
        "df = pd.DataFrame(data)\n",
        "\n",
        "# Extract column names\n",
        "column_names = [item[0].split(' ')[0] for item in data]\n",
        "\n",
        "# Extract values\n",
        "values = [item[0].split(' ')[1] for item in data]\n",
        "\n",
        "# Create a dictionary\n",
        "data_dict = {column_names[i]: [values[i]] for i in range(len(column_names))}\n",
        "\n",
        "# Create a Pandas DataFrame\n",
        "df = pd.DataFrame(data_dict)\n",
        "\n",
        "# Display the DataFrame\n",
        "print(df)\n"
      ],
      "metadata": {
        "colab": {
          "base_uri": "https://localhost:8080/"
        },
        "id": "CCuljafAbiiZ",
        "outputId": "c36210e8-b89f-406d-bae6-c3b376be50fc"
      },
      "execution_count": 116,
      "outputs": [
        {
          "output_type": "stream",
          "name": "stdout",
          "text": [
            "    Name   Address      Phone\n",
            "0  kawin  thailand  099456789\n"
          ]
        }
      ]
    },
    {
      "cell_type": "code",
      "source": [
        "import cv2\n",
        "import pytesseract\n",
        "import pandas as pd\n",
        "\n",
        "image_path = '/content/drive/MyDrive/Image_Video/TextFormImage/TextFormImage04.png'  # Replace with the actual path\n",
        "image = cv2.imread(image_path)\n",
        "\n",
        "# Convert the image to grayscale\n",
        "gray_image = cv2.cvtColor(image, cv2.COLOR_BGR2GRAY)\n",
        "\n",
        "# Apply OCR using Pytesseract with Thai language\n",
        "text = pytesseract.image_to_string(gray_image, lang='tha')\n",
        "\n",
        "# Split the extracted text into rows using newline character\n",
        "rows = text.strip().split('\\n')\n",
        "\n",
        "# Split each row into columns using a delimiter (e.g., comma or tab)\n",
        "delimiter = ','  # Replace with the appropriate delimiter\n",
        "data = [row.split(delimiter) for row in rows]\n",
        "\n",
        "# Extract column names\n",
        "column_names = [item.split(' ')[0] for item in data[0]]\n",
        "\n",
        "# Extract values\n",
        "values = [item.split(' ')[1] if len(item.split(' ')) > 1 else '' for row in data for item in row]\n",
        "\n",
        "# Create a dictionary\n",
        "data_dict = {column_names[i]: [values[i]] for i in range(len(column_names))}\n",
        "\n",
        "# Create a Pandas DataFrame\n",
        "df = pd.DataFrame(data_dict)\n",
        "\n",
        "# Display the DataFrame\n",
        "print(df)\n"
      ],
      "metadata": {
        "id": "vqCV4MxTlo85",
        "colab": {
          "base_uri": "https://localhost:8080/"
        },
        "outputId": "8c6d1187-2556-4512-a7bd-f2f328be9ffc"
      },
      "execution_count": 115,
      "outputs": [
        {
          "output_type": "stream",
          "name": "stdout",
          "text": [
            "            ชีอ\n",
            "0  กวินภพชมนิกร\n"
          ]
        }
      ]
    }
  ]
}